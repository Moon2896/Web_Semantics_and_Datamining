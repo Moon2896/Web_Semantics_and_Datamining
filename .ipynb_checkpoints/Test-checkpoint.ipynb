{
 "cells": [
  {
   "cell_type": "code",
   "execution_count": 50,
   "id": "fc82ae83",
   "metadata": {},
   "outputs": [],
   "source": [
    "import rdflib\n",
    "from rdflib import Graph, Literal, RDF, RDFS, URIRef, Namespace\n",
    "from rdflib.namespace import FOAF, XSD\n",
    "import pandas as pd\n",
    "import numpy as np\n",
    "import re \n",
    "import requests\n",
    "from bs4 import BeautifulSoup"
   ]
  },
  {
   "cell_type": "code",
   "execution_count": 51,
   "id": "8650535c",
   "metadata": {},
   "outputs": [],
   "source": [
    "from rdflib import Graph"
   ]
  },
  {
   "cell_type": "code",
   "execution_count": null,
   "id": "1c787983",
   "metadata": {},
   "outputs": [],
   "source": [
    "#Defining the namespace\n",
    "nspace = Namespace(\"Project.rdf\")\n",
    "\n",
    "# Create a Graph\n",
    "g = Graph()\n",
    "\n",
    "# Parse in an RDF file hosted locally\n",
    "g.parse(\"ProjectPopulated.rdf\")\n",
    "\n",
    "g.namespace_manager.bind(\"nl\",nspace)\n",
    "\n",
    "# Loop through each triple in the graph (subj, pred, obj)\n",
    "for subj, pred, obj in g:\n",
    "    # Check if there is at least one triple in the Graph\n",
    "    if (subj, pred, obj) not in g:\n",
    "       raise Exception(\"It better be!\")\n",
    "\n",
    "# Print the number of \"triples\" in the Graph\n",
    "print(f\"Graph g has {len(g)} statements.\")\n",
    "\n",
    "# Print out the entire Graph in the RDF Turtle format\n",
    "print(g.serialize(format=\"n3\"))"
   ]
  },
  {
   "cell_type": "code",
   "execution_count": 4,
   "id": "18e54d09",
   "metadata": {},
   "outputs": [
    {
     "name": "stdout",
     "output_type": "stream",
     "text": [
      "Casino Royale\n",
      "Kill Bill\n",
      "Pulp Fiction\n"
     ]
    }
   ],
   "source": [
    "qres = g.query(\"\"\"\n",
    "                SELECT ?title\n",
    "                    WHERE { ?x rdf:type webSem:Movie;\n",
    "                               webSem:title ?title }\n",
    "                \"\"\")\n",
    "\n",
    "for row in qres:\n",
    "    print(f\"{row.title}\")"
   ]
  },
  {
   "cell_type": "code",
   "execution_count": 5,
   "id": "29bccbb8",
   "metadata": {},
   "outputs": [
    {
     "name": "stdout",
     "output_type": "stream",
     "text": [
      "Casino Royale, 2006\n",
      "Kill Bill, 2003\n",
      "Pulp Fiction, 1994\n"
     ]
    }
   ],
   "source": [
    "qres = g.query(\"\"\"\n",
    "                SELECT ?title ?year\n",
    "                    WHERE { ?x rdf:type webSem:Movie.\n",
    "                            ?x webSem:title ?title.\n",
    "                            ?x webSem:year ?year\n",
    "                               }\n",
    "                \"\"\")\n",
    "\n",
    "for row in qres:\n",
    "    print(f\"{row.title}, {row.year}\")"
   ]
  },
  {
   "cell_type": "code",
   "execution_count": 33,
   "id": "67b56206",
   "metadata": {},
   "outputs": [
    {
     "name": "stdout",
     "output_type": "stream",
     "text": [
      "John Travolta, 59, Pulp Fiction, Crime Thriller\n",
      "Uma Thurman, 43, Pulp Fiction, Crime Thriller\n",
      "Quentin Tarantino, 53, Kill Bill, Action Crime Thriller\n"
     ]
    }
   ],
   "source": [
    "qres = g.query(\"\"\"\n",
    "                SELECT DISTINCT ?name ?age ?title ?genre\n",
    "                    WHERE { ?x webSem:isActorOf ?movie.\n",
    "                            ?movie webSem:title ?title.\n",
    "                            ?movie webSem:genre ?genre.\n",
    "                            ?x webSem:name ?name.\n",
    "                            ?x webSem:age ?age\n",
    "                            FILTER regex(?genre, \"Crime\")\n",
    "                               }\n",
    "                \"\"\")\n",
    "\n",
    "for row in qres:\n",
    "    print(f\"{row.name}, {row.age}, {row.title}, {row.genre}\")\n"
   ]
  },
  {
   "cell_type": "code",
   "execution_count": 23,
   "id": "004490a8",
   "metadata": {},
   "outputs": [
    {
     "name": "stdout",
     "output_type": "stream",
     "text": [
      "Quentin Tarantino, 53\n"
     ]
    }
   ],
   "source": [
    "qres = g.query(\"\"\"\n",
    "                SELECT DISTINCT ?name ?age\n",
    "                    WHERE { ?x webSem:isDirectorOf ?isDirectorOf.\n",
    "                            ?x webSem:name ?name.\n",
    "                            ?x webSem:age ?age\n",
    "                               }\n",
    "                \"\"\")\n",
    "\n",
    "for row in qres:\n",
    "    print(f\"{row.name}, {row.age}\")"
   ]
  },
  {
   "cell_type": "code",
   "execution_count": null,
   "id": "98ce3b13",
   "metadata": {},
   "outputs": [],
   "source": [
    "qres = g.query(\"\"\"\n",
    "                SELECT DISTINCT ?name ?age\n",
    "                    WHERE { ?x webSem:isDirectorOf ?isDirectorOf.\n",
    "                            ?x webSem:name ?name.\n",
    "                            ?x webSem:age ?age\n",
    "                               }\n",
    "                \"\"\")\n",
    "\n",
    "for row in qres:\n",
    "    print(f\"{row.name}, {row.age}\")"
   ]
  },
  {
   "cell_type": "code",
   "execution_count": 49,
   "id": "d5474bfc",
   "metadata": {},
   "outputs": [
    {
     "name": "stdout",
     "output_type": "stream",
     "text": [
      "Kill Bill Action Thriller Crime \n"
     ]
    }
   ],
   "source": [
    "qres = g.query(\"\"\"\n",
    "                SELECT  ?title ?genre\n",
    "                    WHERE { ?x webSem:title ?title.\n",
    "                            ?x webSem:genre ?genre\n",
    "                            FILTER (?title=\"Kill Bill\")\n",
    "                               }\n",
    "                \"\"\")\n",
    "\n",
    "\n",
    "genre = \"\"\n",
    "for row in qres:\n",
    "    genre += row.genre + \" \"\n",
    "\n",
    "print(f\"{row.title} {genre}\")"
   ]
  },
  {
   "cell_type": "code",
   "execution_count": null,
   "id": "cd7169d6",
   "metadata": {},
   "outputs": [],
   "source": []
  }
 ],
 "metadata": {
  "kernelspec": {
   "display_name": "Python 3 (ipykernel)",
   "language": "python",
   "name": "python3"
  },
  "language_info": {
   "codemirror_mode": {
    "name": "ipython",
    "version": 3
   },
   "file_extension": ".py",
   "mimetype": "text/x-python",
   "name": "python",
   "nbconvert_exporter": "python",
   "pygments_lexer": "ipython3",
   "version": "3.9.7"
  }
 },
 "nbformat": 4,
 "nbformat_minor": 5
}
